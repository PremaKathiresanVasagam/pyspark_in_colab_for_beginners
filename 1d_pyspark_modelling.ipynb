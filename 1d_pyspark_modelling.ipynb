{
  "nbformat": 4,
  "nbformat_minor": 0,
  "metadata": {
    "colab": {
      "provenance": []
    },
    "kernelspec": {
      "name": "python3",
      "display_name": "Python 3"
    },
    "language_info": {
      "name": "python"
    }
  },
  "cells": [
    {
      "cell_type": "code",
      "source": [
        "from google.colab import drive\n",
        "drive.mount('/content/drive')"
      ],
      "metadata": {
        "colab": {
          "base_uri": "https://localhost:8080/"
        },
        "id": "gqAQrDqWlvaW",
        "outputId": "f4a560f9-2921-4f78-9684-5c2b09793861"
      },
      "execution_count": 1,
      "outputs": [
        {
          "output_type": "stream",
          "name": "stdout",
          "text": [
            "Mounted at /content/drive\n"
          ]
        }
      ]
    },
    {
      "cell_type": "code",
      "source": [
        "!unzip \"/content/drive/MyDrive/BlackFridaySale.zip\""
      ],
      "metadata": {
        "colab": {
          "base_uri": "https://localhost:8080/"
        },
        "id": "civcjZirmI4z",
        "outputId": "7e16883e-430f-4703-bb2f-ab367a4dc0b4"
      },
      "execution_count": 2,
      "outputs": [
        {
          "output_type": "stream",
          "name": "stdout",
          "text": [
            "Archive:  /content/drive/MyDrive/BlackFridaySale.zip\n",
            "  inflating: test.csv                \n",
            "  inflating: train.csv               \n"
          ]
        }
      ]
    },
    {
      "cell_type": "code",
      "source": [
        "!pip install pyspark"
      ],
      "metadata": {
        "colab": {
          "base_uri": "https://localhost:8080/"
        },
        "id": "kyWymX99ltA7",
        "outputId": "3f700c76-2f29-413a-db6d-c8fdce5cc9f4"
      },
      "execution_count": 3,
      "outputs": [
        {
          "output_type": "stream",
          "name": "stdout",
          "text": [
            "Looking in indexes: https://pypi.org/simple, https://us-python.pkg.dev/colab-wheels/public/simple/\n",
            "Collecting pyspark\n",
            "  Downloading pyspark-3.3.2.tar.gz (281.4 MB)\n",
            "\u001b[2K     \u001b[90m━━━━━━━━━━━━━━━━━━━━━━━━━━━━━━━━━━━━━━━\u001b[0m \u001b[32m281.4/281.4 MB\u001b[0m \u001b[31m5.3 MB/s\u001b[0m eta \u001b[36m0:00:00\u001b[0m\n",
            "\u001b[?25h  Preparing metadata (setup.py) ... \u001b[?25l\u001b[?25hdone\n",
            "Collecting py4j==0.10.9.5\n",
            "  Downloading py4j-0.10.9.5-py2.py3-none-any.whl (199 kB)\n",
            "\u001b[2K     \u001b[90m━━━━━━━━━━━━━━━━━━━━━━━━━━━━━━━━━━━━━━\u001b[0m \u001b[32m199.7/199.7 KB\u001b[0m \u001b[31m19.6 MB/s\u001b[0m eta \u001b[36m0:00:00\u001b[0m\n",
            "\u001b[?25hBuilding wheels for collected packages: pyspark\n",
            "  Building wheel for pyspark (setup.py) ... \u001b[?25l\u001b[?25hdone\n",
            "  Created wheel for pyspark: filename=pyspark-3.3.2-py2.py3-none-any.whl size=281824025 sha256=63ba05f4c31111888385752d6e44afd4a603807fb32b9eb37df98770ca67598d\n",
            "  Stored in directory: /root/.cache/pip/wheels/6c/e3/9b/0525ce8a69478916513509d43693511463c6468db0de237c86\n",
            "Successfully built pyspark\n",
            "Installing collected packages: py4j, pyspark\n",
            "Successfully installed py4j-0.10.9.5 pyspark-3.3.2\n"
          ]
        }
      ]
    },
    {
      "cell_type": "code",
      "execution_count": 4,
      "metadata": {
        "colab": {
          "base_uri": "https://localhost:8080/",
          "height": 221
        },
        "id": "c4utU-_lgfcp",
        "outputId": "d3ee309b-655c-42ad-c55f-8903c6a2ca2c"
      },
      "outputs": [
        {
          "output_type": "execute_result",
          "data": {
            "text/plain": [
              "<pyspark.sql.session.SparkSession at 0x7f00aae10460>"
            ],
            "text/html": [
              "\n",
              "            <div>\n",
              "                <p><b>SparkSession - in-memory</b></p>\n",
              "                \n",
              "        <div>\n",
              "            <p><b>SparkContext</b></p>\n",
              "\n",
              "            <p><a href=\"http://f8758262a26c:4040\">Spark UI</a></p>\n",
              "\n",
              "            <dl>\n",
              "              <dt>Version</dt>\n",
              "                <dd><code>v3.3.2</code></dd>\n",
              "              <dt>Master</dt>\n",
              "                <dd><code>local[*]</code></dd>\n",
              "              <dt>AppName</dt>\n",
              "                <dd><code>pyspark-shell</code></dd>\n",
              "            </dl>\n",
              "        </div>\n",
              "        \n",
              "            </div>\n",
              "        "
            ]
          },
          "metadata": {},
          "execution_count": 4
        }
      ],
      "source": [
        "# Import SparkSession\n",
        "from pyspark.sql import SparkSession\n",
        "\n",
        "# Create a Spark Session\n",
        "spark = SparkSession.builder.master(\"local[*]\").getOrCreate()\n",
        "\n",
        "# Check Spark Session Information\n",
        "spark"
      ]
    },
    {
      "cell_type": "code",
      "source": [
        "train = spark.read.format(\"csv\").option(\"header\", \"true\").option(\"mode\", \"FAILFAST\").option(\"inferSchema\", \"true\").load(\"/content/drive/MyDrive/pandas_preprocessed_data.csv\")\n",
        "test = spark.read.format(\"csv\").option(\"header\", \"true\").option(\"mode\", \"FAILFAST\").option(\"inferSchema\", \"true\").load(\"test.csv\")"
      ],
      "metadata": {
        "id": "KcC9NBgRl9RA"
      },
      "execution_count": 5,
      "outputs": []
    },
    {
      "cell_type": "code",
      "source": [
        "train.printSchema()"
      ],
      "metadata": {
        "colab": {
          "base_uri": "https://localhost:8080/"
        },
        "id": "_4jsPJW8l7tz",
        "outputId": "762535d6-559e-45d0-8a25-c9d6d1e8fbd7"
      },
      "execution_count": 6,
      "outputs": [
        {
          "output_type": "stream",
          "name": "stdout",
          "text": [
            "root\n",
            " |-- _c0: integer (nullable = true)\n",
            " |-- User_ID: integer (nullable = true)\n",
            " |-- Product_ID: string (nullable = true)\n",
            " |-- Gender: string (nullable = true)\n",
            " |-- Age: string (nullable = true)\n",
            " |-- Occupation: integer (nullable = true)\n",
            " |-- City_Category: string (nullable = true)\n",
            " |-- Stay_In_Current_City_Years: string (nullable = true)\n",
            " |-- Marital_Status: integer (nullable = true)\n",
            " |-- Product_Category_1: integer (nullable = true)\n",
            " |-- Product_Category_2: integer (nullable = true)\n",
            " |-- Product_Category_3: integer (nullable = true)\n",
            " |-- Purchase: integer (nullable = true)\n",
            "\n"
          ]
        }
      ]
    },
    {
      "cell_type": "code",
      "source": [
        "train.show(5)"
      ],
      "metadata": {
        "colab": {
          "base_uri": "https://localhost:8080/"
        },
        "id": "CAh_One4mTi4",
        "outputId": "77efeed4-cd46-4ca2-bab1-ec796e3a73ec"
      },
      "execution_count": 7,
      "outputs": [
        {
          "output_type": "stream",
          "name": "stdout",
          "text": [
            "+---+-------+----------+------+----+----------+-------------+--------------------------+--------------+------------------+------------------+------------------+--------+\n",
            "|_c0|User_ID|Product_ID|Gender| Age|Occupation|City_Category|Stay_In_Current_City_Years|Marital_Status|Product_Category_1|Product_Category_2|Product_Category_3|Purchase|\n",
            "+---+-------+----------+------+----+----------+-------------+--------------------------+--------------+------------------+------------------+------------------+--------+\n",
            "|  0|1000001| P00069042|     F|0-17|        10|            A|                         2|             0|                 3|                 0|                 0|    8370|\n",
            "|  1|1000001| P00248942|     F|0-17|        10|            A|                         2|             0|                 1|                 6|                14|   15200|\n",
            "|  2|1000001| P00087842|     F|0-17|        10|            A|                         2|             0|                12|                 0|                 0|    1422|\n",
            "|  3|1000001| P00085442|     F|0-17|        10|            A|                         2|             0|                12|                14|                 0|    1057|\n",
            "|  4|1000002| P00285442|     M| 55+|        16|            C|                        4+|             0|                 8|                 0|                 0|    7969|\n",
            "+---+-------+----------+------+----+----------+-------------+--------------------------+--------------+------------------+------------------+------------------+--------+\n",
            "only showing top 5 rows\n",
            "\n"
          ]
        }
      ]
    },
    {
      "cell_type": "code",
      "source": [
        "train.columns"
      ],
      "metadata": {
        "colab": {
          "base_uri": "https://localhost:8080/"
        },
        "id": "gJZOOb7Hma_6",
        "outputId": "4d2c795f-75ec-481d-8efc-ed4f4f1b48e9"
      },
      "execution_count": 8,
      "outputs": [
        {
          "output_type": "execute_result",
          "data": {
            "text/plain": [
              "['_c0',\n",
              " 'User_ID',\n",
              " 'Product_ID',\n",
              " 'Gender',\n",
              " 'Age',\n",
              " 'Occupation',\n",
              " 'City_Category',\n",
              " 'Stay_In_Current_City_Years',\n",
              " 'Marital_Status',\n",
              " 'Product_Category_1',\n",
              " 'Product_Category_2',\n",
              " 'Product_Category_3',\n",
              " 'Purchase']"
            ]
          },
          "metadata": {},
          "execution_count": 8
        }
      ]
    },
    {
      "cell_type": "markdown",
      "source": [
        "### Making the Product ID's into Indexes"
      ],
      "metadata": {
        "id": "GP6Zlada17l-"
      }
    },
    {
      "cell_type": "code",
      "source": [
        "from pyspark.ml.feature import StringIndexer\n",
        "plan_indexer = StringIndexer(inputCol = 'Product_ID', outputCol = 'productid')\n",
        "labeller = plan_indexer.fit(train)"
      ],
      "metadata": {
        "id": "e6pq5aJB1vpC"
      },
      "execution_count": 9,
      "outputs": []
    },
    {
      "cell_type": "code",
      "source": [
        "train1 = labeller.transform(train)\n",
        "test1 = labeller.transform(test)"
      ],
      "metadata": {
        "id": "llcWLepo10W9"
      },
      "execution_count": 10,
      "outputs": []
    },
    {
      "cell_type": "code",
      "source": [
        "# See Results\n",
        "print(train1.select('Product_ID').head(5))\n",
        "print(train1.select('productid').head(5))"
      ],
      "metadata": {
        "colab": {
          "base_uri": "https://localhost:8080/"
        },
        "id": "lia0ScMZ13g8",
        "outputId": "4a219cd0-1bfb-4be9-f6e7-106dcfe7a98b"
      },
      "execution_count": 11,
      "outputs": [
        {
          "output_type": "stream",
          "name": "stdout",
          "text": [
            "[Row(Product_ID='P00069042'), Row(Product_ID='P00248942'), Row(Product_ID='P00087842'), Row(Product_ID='P00085442'), Row(Product_ID='P00285442')]\n",
            "[Row(productid=765.0), Row(productid=183.0), Row(productid=1496.0), Row(productid=480.0), Row(productid=860.0)]\n"
          ]
        }
      ]
    },
    {
      "cell_type": "markdown",
      "source": [
        "## Prediction\n",
        "### Getting the Data ready for the Model"
      ],
      "metadata": {
        "id": "_0Tsmblz2AU_"
      }
    },
    {
      "cell_type": "code",
      "source": [
        "from pyspark.ml.feature import RFormula\n",
        "df_formula = \"Purchase ~ Age+ Occupation +City_Category+Stay_In_Current_City_Years+Product_Category_1+Product_Category_2+ Product_Category_3 + Gender\"\n",
        "formula = RFormula(formula=df_formula,featuresCol=\"features\",labelCol=\"label\")"
      ],
      "metadata": {
        "id": "1XCPfo_amVie"
      },
      "execution_count": 12,
      "outputs": []
    },
    {
      "cell_type": "code",
      "source": [
        "t1 = formula.fit(train)\n",
        "train_1 = t1.transform(train)\n",
        "test_1 = t1.transform(test)"
      ],
      "metadata": {
        "id": "lToI2NGWmhc3"
      },
      "execution_count": 13,
      "outputs": []
    },
    {
      "cell_type": "code",
      "source": [
        "# See Results\n",
        "train_1.select('features').show()\n",
        "train_1.select('label').show()"
      ],
      "metadata": {
        "colab": {
          "base_uri": "https://localhost:8080/"
        },
        "id": "Coqi9DtGmuw9",
        "outputId": "1ba6c86b-ad14-4132-9954-b63b8079beb2"
      },
      "execution_count": 14,
      "outputs": [
        {
          "output_type": "stream",
          "name": "stdout",
          "text": [
            "+--------------------+\n",
            "|            features|\n",
            "+--------------------+\n",
            "|(17,[6,10,13],[10...|\n",
            "|(17,[6,10,13,14,1...|\n",
            "|(17,[6,10,13],[10...|\n",
            "|(17,[6,10,13,14],...|\n",
            "|(17,[5,6,8,12,13,...|\n",
            "|(17,[0,6,11,13,14...|\n",
            "|(17,[3,6,7,10,13,...|\n",
            "|(17,[3,6,7,10,13,...|\n",
            "|(17,[3,6,7,10,13,...|\n",
            "|(17,[0,6,9,13,16]...|\n",
            "|(17,[0,6,9,13,14,...|\n",
            "|(17,[0,6,9,13,16]...|\n",
            "|(17,[0,6,9,13,16]...|\n",
            "|(17,[0,6,9,13,14,...|\n",
            "|(17,[4,6,9,13,14,...|\n",
            "|(17,[4,6,9,13,14]...|\n",
            "|(17,[4,6,9,13,14,...|\n",
            "|(17,[4,6,9,13,14]...|\n",
            "|(17,[1,6,7,9,13,1...|\n",
            "|(17,[0,6,8,12,13,...|\n",
            "+--------------------+\n",
            "only showing top 20 rows\n",
            "\n",
            "+-------+\n",
            "|  label|\n",
            "+-------+\n",
            "| 8370.0|\n",
            "|15200.0|\n",
            "| 1422.0|\n",
            "| 1057.0|\n",
            "| 7969.0|\n",
            "|15227.0|\n",
            "|19215.0|\n",
            "|15854.0|\n",
            "|15686.0|\n",
            "| 7871.0|\n",
            "| 5254.0|\n",
            "| 3957.0|\n",
            "| 6073.0|\n",
            "|15665.0|\n",
            "| 5378.0|\n",
            "| 2079.0|\n",
            "|13055.0|\n",
            "| 8851.0|\n",
            "|11788.0|\n",
            "|19614.0|\n",
            "+-------+\n",
            "only showing top 20 rows\n",
            "\n"
          ]
        }
      ]
    },
    {
      "cell_type": "code",
      "source": [
        "train_1.select('purchase').count()"
      ],
      "metadata": {
        "colab": {
          "base_uri": "https://localhost:8080/"
        },
        "id": "iEIWt886mzij",
        "outputId": "1cecc83d-ea14-4d3b-b87e-f4f95c79d350"
      },
      "execution_count": 15,
      "outputs": [
        {
          "output_type": "execute_result",
          "data": {
            "text/plain": [
              "550068"
            ]
          },
          "metadata": {},
          "execution_count": 15
        }
      ]
    },
    {
      "cell_type": "code",
      "source": [
        "train_cv, test_cv = train_1.randomSplit([0.7, 0.3])"
      ],
      "metadata": {
        "id": "DVdVefnvnOpG"
      },
      "execution_count": 16,
      "outputs": []
    },
    {
      "cell_type": "code",
      "source": [
        "print((train_cv.count(), len(train_cv.columns)))"
      ],
      "metadata": {
        "colab": {
          "base_uri": "https://localhost:8080/"
        },
        "id": "_BLmGpLbo_Bn",
        "outputId": "cf85e16b-7351-47cd-ab5e-2a360e54df31"
      },
      "execution_count": 17,
      "outputs": [
        {
          "output_type": "stream",
          "name": "stdout",
          "text": [
            "(385026, 15)\n"
          ]
        }
      ]
    },
    {
      "cell_type": "code",
      "source": [
        "print((test_cv.count(), len(test_cv.columns)))"
      ],
      "metadata": {
        "colab": {
          "base_uri": "https://localhost:8080/"
        },
        "id": "6t4PLaGnsvm-",
        "outputId": "e76e38ea-1efe-4c79-c39a-7914475c6945"
      },
      "execution_count": 18,
      "outputs": [
        {
          "output_type": "stream",
          "name": "stdout",
          "text": [
            "(165042, 15)\n"
          ]
        }
      ]
    },
    {
      "cell_type": "code",
      "source": [
        "from pyspark.ml.regression import RandomForestRegressor\n",
        "from pyspark.ml.evaluation import RegressionEvaluator\n",
        "evaluator = RegressionEvaluator()"
      ],
      "metadata": {
        "id": "82sK-WZAnRu5"
      },
      "execution_count": 19,
      "outputs": []
    },
    {
      "cell_type": "code",
      "source": [
        "rf = RandomForestRegressor(labelCol='label',featuresCol='features')"
      ],
      "metadata": {
        "id": "DoEGjoFNwp5M"
      },
      "execution_count": 32,
      "outputs": []
    },
    {
      "cell_type": "code",
      "source": [
        "rfModel = rf.fit(train_cv)"
      ],
      "metadata": {
        "id": "rUp_200qwp7_"
      },
      "execution_count": 33,
      "outputs": []
    },
    {
      "cell_type": "code",
      "source": [
        "predictions = rfModel.transform(test_cv)"
      ],
      "metadata": {
        "id": "CtsHbpiMwp-5"
      },
      "execution_count": 34,
      "outputs": []
    },
    {
      "cell_type": "code",
      "source": [
        "df = predictions.select('User_ID', 'Product_ID', 'prediction')"
      ],
      "metadata": {
        "id": "k2-6YVJBxIu3"
      },
      "execution_count": 35,
      "outputs": []
    },
    {
      "cell_type": "code",
      "source": [
        "mse = evaluator.evaluate(predictions,{evaluator.metricName:\"mse\"})"
      ],
      "metadata": {
        "id": "CkYwfG0Rxf8z"
      },
      "execution_count": 36,
      "outputs": []
    },
    {
      "cell_type": "code",
      "source": [
        "np.sqrt(mse)"
      ],
      "metadata": {
        "colab": {
          "base_uri": "https://localhost:8080/"
        },
        "id": "cv69B5zuznhE",
        "outputId": "9bcd6f76-8777-4e2a-a47b-2a5af33d102c"
      },
      "execution_count": 37,
      "outputs": [
        {
          "output_type": "execute_result",
          "data": {
            "text/plain": [
              "3935.3280184655496"
            ]
          },
          "metadata": {},
          "execution_count": 37
        }
      ]
    },
    {
      "cell_type": "code",
      "source": [
        "df.toPandas().to_csv('black_friday_cv_results.csv')"
      ],
      "metadata": {
        "id": "KA2Aypm1x4fF"
      },
      "execution_count": 38,
      "outputs": []
    },
    {
      "cell_type": "code",
      "source": [
        "#import pandas as pd\n",
        "#import numpy as np"
      ],
      "metadata": {
        "id": "VLuWOLV0nhEV"
      },
      "execution_count": 20,
      "outputs": []
    },
    {
      "cell_type": "code",
      "source": [
        "# mean_se = []\n",
        "# num_trees = []\n",
        "# depth_type = []\n",
        "# for trees in range(3,6):\n",
        "#     for depth in range(5,7):\n",
        "#         rf = RandomForestRegressor(numTrees=trees, maxDepth=depth, seed = 1)\n",
        "#         model_1 = rf.fit(train_cv)\n",
        "#         predictions = model_1.transform(test_cv)\n",
        "#         mse = evaluator.evaluate(predictions,{evaluator.metricName:\"mse\" })\n",
        "#         mean_se.append(np.sqrt(mse))\n",
        "#         num_trees.append(trees)\n",
        "#         depth_type.append(depth)"
      ],
      "metadata": {
        "id": "upYpmX8rnoxi"
      },
      "execution_count": 21,
      "outputs": []
    },
    {
      "cell_type": "code",
      "source": [
        "# spark_grid_search = pd.DataFrame({'depth': depth, 'num_trees': num_trees, 'mean_se': mean_se})\\\n",
        "# .sort_values('mean_se', ascending = True)[['depth', 'num_trees', 'mean_se']].reset_index(drop = True)"
      ],
      "metadata": {
        "id": "mcvyuAFinUjA"
      },
      "execution_count": 24,
      "outputs": []
    },
    {
      "cell_type": "code",
      "source": [
        "# spark_grid_search"
      ],
      "metadata": {
        "colab": {
          "base_uri": "https://localhost:8080/",
          "height": 238
        },
        "id": "VU7ESDsbztAq",
        "outputId": "a9012373-c338-41b3-8556-5a6bd6ddd7c2"
      },
      "execution_count": 25,
      "outputs": [
        {
          "output_type": "execute_result",
          "data": {
            "text/plain": [
              "   depth  num_trees      mean_se\n",
              "0      6          4  3685.395976\n",
              "1      6          4  3845.533726\n",
              "2      6          5  3933.052830\n",
              "3      6          3  3946.888587\n",
              "4      6          3  4042.985432\n",
              "5      6          5  4056.838251"
            ],
            "text/html": [
              "\n",
              "  <div id=\"df-da522118-a097-4cd2-804c-72b27f9fb803\">\n",
              "    <div class=\"colab-df-container\">\n",
              "      <div>\n",
              "<style scoped>\n",
              "    .dataframe tbody tr th:only-of-type {\n",
              "        vertical-align: middle;\n",
              "    }\n",
              "\n",
              "    .dataframe tbody tr th {\n",
              "        vertical-align: top;\n",
              "    }\n",
              "\n",
              "    .dataframe thead th {\n",
              "        text-align: right;\n",
              "    }\n",
              "</style>\n",
              "<table border=\"1\" class=\"dataframe\">\n",
              "  <thead>\n",
              "    <tr style=\"text-align: right;\">\n",
              "      <th></th>\n",
              "      <th>depth</th>\n",
              "      <th>num_trees</th>\n",
              "      <th>mean_se</th>\n",
              "    </tr>\n",
              "  </thead>\n",
              "  <tbody>\n",
              "    <tr>\n",
              "      <th>0</th>\n",
              "      <td>6</td>\n",
              "      <td>4</td>\n",
              "      <td>3685.395976</td>\n",
              "    </tr>\n",
              "    <tr>\n",
              "      <th>1</th>\n",
              "      <td>6</td>\n",
              "      <td>4</td>\n",
              "      <td>3845.533726</td>\n",
              "    </tr>\n",
              "    <tr>\n",
              "      <th>2</th>\n",
              "      <td>6</td>\n",
              "      <td>5</td>\n",
              "      <td>3933.052830</td>\n",
              "    </tr>\n",
              "    <tr>\n",
              "      <th>3</th>\n",
              "      <td>6</td>\n",
              "      <td>3</td>\n",
              "      <td>3946.888587</td>\n",
              "    </tr>\n",
              "    <tr>\n",
              "      <th>4</th>\n",
              "      <td>6</td>\n",
              "      <td>3</td>\n",
              "      <td>4042.985432</td>\n",
              "    </tr>\n",
              "    <tr>\n",
              "      <th>5</th>\n",
              "      <td>6</td>\n",
              "      <td>5</td>\n",
              "      <td>4056.838251</td>\n",
              "    </tr>\n",
              "  </tbody>\n",
              "</table>\n",
              "</div>\n",
              "      <button class=\"colab-df-convert\" onclick=\"convertToInteractive('df-da522118-a097-4cd2-804c-72b27f9fb803')\"\n",
              "              title=\"Convert this dataframe to an interactive table.\"\n",
              "              style=\"display:none;\">\n",
              "        \n",
              "  <svg xmlns=\"http://www.w3.org/2000/svg\" height=\"24px\"viewBox=\"0 0 24 24\"\n",
              "       width=\"24px\">\n",
              "    <path d=\"M0 0h24v24H0V0z\" fill=\"none\"/>\n",
              "    <path d=\"M18.56 5.44l.94 2.06.94-2.06 2.06-.94-2.06-.94-.94-2.06-.94 2.06-2.06.94zm-11 1L8.5 8.5l.94-2.06 2.06-.94-2.06-.94L8.5 2.5l-.94 2.06-2.06.94zm10 10l.94 2.06.94-2.06 2.06-.94-2.06-.94-.94-2.06-.94 2.06-2.06.94z\"/><path d=\"M17.41 7.96l-1.37-1.37c-.4-.4-.92-.59-1.43-.59-.52 0-1.04.2-1.43.59L10.3 9.45l-7.72 7.72c-.78.78-.78 2.05 0 2.83L4 21.41c.39.39.9.59 1.41.59.51 0 1.02-.2 1.41-.59l7.78-7.78 2.81-2.81c.8-.78.8-2.07 0-2.86zM5.41 20L4 18.59l7.72-7.72 1.47 1.35L5.41 20z\"/>\n",
              "  </svg>\n",
              "      </button>\n",
              "      \n",
              "  <style>\n",
              "    .colab-df-container {\n",
              "      display:flex;\n",
              "      flex-wrap:wrap;\n",
              "      gap: 12px;\n",
              "    }\n",
              "\n",
              "    .colab-df-convert {\n",
              "      background-color: #E8F0FE;\n",
              "      border: none;\n",
              "      border-radius: 50%;\n",
              "      cursor: pointer;\n",
              "      display: none;\n",
              "      fill: #1967D2;\n",
              "      height: 32px;\n",
              "      padding: 0 0 0 0;\n",
              "      width: 32px;\n",
              "    }\n",
              "\n",
              "    .colab-df-convert:hover {\n",
              "      background-color: #E2EBFA;\n",
              "      box-shadow: 0px 1px 2px rgba(60, 64, 67, 0.3), 0px 1px 3px 1px rgba(60, 64, 67, 0.15);\n",
              "      fill: #174EA6;\n",
              "    }\n",
              "\n",
              "    [theme=dark] .colab-df-convert {\n",
              "      background-color: #3B4455;\n",
              "      fill: #D2E3FC;\n",
              "    }\n",
              "\n",
              "    [theme=dark] .colab-df-convert:hover {\n",
              "      background-color: #434B5C;\n",
              "      box-shadow: 0px 1px 3px 1px rgba(0, 0, 0, 0.15);\n",
              "      filter: drop-shadow(0px 1px 2px rgba(0, 0, 0, 0.3));\n",
              "      fill: #FFFFFF;\n",
              "    }\n",
              "  </style>\n",
              "\n",
              "      <script>\n",
              "        const buttonEl =\n",
              "          document.querySelector('#df-da522118-a097-4cd2-804c-72b27f9fb803 button.colab-df-convert');\n",
              "        buttonEl.style.display =\n",
              "          google.colab.kernel.accessAllowed ? 'block' : 'none';\n",
              "\n",
              "        async function convertToInteractive(key) {\n",
              "          const element = document.querySelector('#df-da522118-a097-4cd2-804c-72b27f9fb803');\n",
              "          const dataTable =\n",
              "            await google.colab.kernel.invokeFunction('convertToInteractive',\n",
              "                                                     [key], {});\n",
              "          if (!dataTable) return;\n",
              "\n",
              "          const docLinkHtml = 'Like what you see? Visit the ' +\n",
              "            '<a target=\"_blank\" href=https://colab.research.google.com/notebooks/data_table.ipynb>data table notebook</a>'\n",
              "            + ' to learn more about interactive tables.';\n",
              "          element.innerHTML = '';\n",
              "          dataTable['output_type'] = 'display_data';\n",
              "          await google.colab.output.renderOutput(dataTable, element);\n",
              "          const docLink = document.createElement('div');\n",
              "          docLink.innerHTML = docLinkHtml;\n",
              "          element.appendChild(docLink);\n",
              "        }\n",
              "      </script>\n",
              "    </div>\n",
              "  </div>\n",
              "  "
            ]
          },
          "metadata": {},
          "execution_count": 25
        }
      ]
    },
    {
      "cell_type": "code",
      "source": [
        "# rf = RandomForestRegressor(numTrees=4, maxDepth=6, seed = 1)\n",
        "# model_1 = rf.fit(train_cv)\n",
        "# predictions = model_1.transform(test_cv)\n",
        "# mse = evaluator.evaluate(predictions,{evaluator.metricName:\"mse\" })"
      ],
      "metadata": {
        "id": "i1Ypvyysoeq9"
      },
      "execution_count": 26,
      "outputs": []
    },
    {
      "cell_type": "code",
      "source": [
        "# evaluator = RegressionEvaluator()\n",
        "# mse = evaluator.evaluate(predictions,{evaluator.metricName:\"mse\" })\n",
        "# import numpy as np\n",
        "# np.sqrt(mse), mse"
      ],
      "metadata": {
        "colab": {
          "base_uri": "https://localhost:8080/"
        },
        "id": "gAt4eotDz9Yi",
        "outputId": "caa6aeae-0dd2-4536-9594-7185efddbd19"
      },
      "execution_count": 27,
      "outputs": [
        {
          "output_type": "execute_result",
          "data": {
            "text/plain": [
              "(3685.3959760178122, 13582143.500048283)"
            ]
          },
          "metadata": {},
          "execution_count": 27
        }
      ]
    },
    {
      "cell_type": "code",
      "source": [
        "# predictions.selectExpr(\"User_ID as User_ID\", \"Product_ID as Product_ID\", 'prediction as Purchase').show()"
      ],
      "metadata": {
        "colab": {
          "base_uri": "https://localhost:8080/"
        },
        "id": "pXgr9XNK51a9",
        "outputId": "1dde09e9-ea05-40ee-97f0-a094197c47cd"
      },
      "execution_count": 29,
      "outputs": [
        {
          "output_type": "stream",
          "name": "stdout",
          "text": [
            "+-------+----------+------------------+\n",
            "|User_ID|Product_ID|          Purchase|\n",
            "+-------+----------+------------------+\n",
            "|1000004| P00184942|14251.987110682236|\n",
            "|1000005| P00145042|13229.650640627506|\n",
            "|1000008| P00214442| 7935.253190578615|\n",
            "|1000009| P00161442| 7178.554269515551|\n",
            "|1000010| P00085942|11380.891482261355|\n",
            "|1000010| P00118742| 5935.471983010488|\n",
            "|1000010| P00058342|10286.394936399318|\n",
            "|1000010| P00032442| 5935.471983010488|\n",
            "|1000010| P00155442| 12536.43052031698|\n",
            "|1000010|  P0094542|11580.293757294436|\n",
            "|1000010| P00148642|12536.790150965633|\n",
            "|1000010| P00312142| 8080.661666875826|\n",
            "|1000011| P00192642| 8267.017996722721|\n",
            "|1000011| P00110842|13935.501024380006|\n",
            "|1000012| P00304242|12465.723102976035|\n",
            "|1000013| P00140742| 12538.21547041308|\n",
            "|1000015| P00247542| 8016.200503086933|\n",
            "|1000015| P00166242| 7800.561847456589|\n",
            "|1000015| P00042142|13247.469367201818|\n",
            "|1000016| P00217742| 6788.496797638035|\n",
            "+-------+----------+------------------+\n",
            "only showing top 20 rows\n",
            "\n"
          ]
        }
      ]
    }
  ]
}