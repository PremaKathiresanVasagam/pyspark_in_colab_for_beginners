{
  "nbformat": 4,
  "nbformat_minor": 0,
  "metadata": {
    "colab": {
      "provenance": []
    },
    "kernelspec": {
      "name": "python3",
      "display_name": "Python 3"
    },
    "language_info": {
      "name": "python"
    }
  },
  "cells": [
    {
      "cell_type": "markdown",
      "source": [
        "# pyspark for Data Exploration \n",
        "\n",
        "* Data exploration\n",
        "  *  Show column details\n",
        "  * Display rows\n",
        "  * Number of rows in dataframe\n",
        "  * Display specific columns\n",
        "  * Describing the columns\n",
        "  * Distinct values for Categorical columns\n",
        "  * Aggregate with Groupby\n",
        "  * Counting and Removing Null values\n",
        "  * Save to file"
      ],
      "metadata": {
        "id": "iBC5scdN4eNq"
      }
    },
    {
      "cell_type": "markdown",
      "source": [
        "## Connecting drive to colab"
      ],
      "metadata": {
        "id": "A4f4Jh11tggA"
      }
    },
    {
      "cell_type": "code",
      "source": [
        "from google.colab import drive\n",
        "drive.mount('/content/drive')"
      ],
      "metadata": {
        "colab": {
          "base_uri": "https://localhost:8080/"
        },
        "id": "AR7wyBLEta_6",
        "outputId": "ff448e0c-1d4b-4fac-dff3-4ffbcaa08236"
      },
      "execution_count": 4,
      "outputs": [
        {
          "output_type": "stream",
          "name": "stdout",
          "text": [
            "Drive already mounted at /content/drive; to attempt to forcibly remount, call drive.mount(\"/content/drive\", force_remount=True).\n"
          ]
        }
      ]
    },
    {
      "cell_type": "markdown",
      "source": [
        "## Reading data from drive"
      ],
      "metadata": {
        "id": "fhXtqvw_tjOB"
      }
    },
    {
      "cell_type": "code",
      "source": [
        "!unzip \"/content/drive/MyDrive/BlackFridaySale.zip\""
      ],
      "metadata": {
        "colab": {
          "base_uri": "https://localhost:8080/"
        },
        "id": "VMNZ0gHttQMC",
        "outputId": "af25743b-fd24-43cd-e75a-60de1bb7d96c"
      },
      "execution_count": 5,
      "outputs": [
        {
          "output_type": "stream",
          "name": "stdout",
          "text": [
            "Archive:  /content/drive/MyDrive/BlackFridaySale.zip\n",
            "  inflating: test.csv                \n",
            "  inflating: train.csv               \n"
          ]
        }
      ]
    },
    {
      "cell_type": "code",
      "source": [
        "!pip install pyspark"
      ],
      "metadata": {
        "colab": {
          "base_uri": "https://localhost:8080/"
        },
        "id": "9TLU5PBTV2sS",
        "outputId": "1ba2fa00-fac8-4f16-873e-1057a9235ff4"
      },
      "execution_count": 6,
      "outputs": [
        {
          "output_type": "stream",
          "name": "stdout",
          "text": [
            "Looking in indexes: https://pypi.org/simple, https://us-python.pkg.dev/colab-wheels/public/simple/\n",
            "Requirement already satisfied: pyspark in /usr/local/lib/python3.9/dist-packages (3.3.2)\n",
            "Requirement already satisfied: py4j==0.10.9.5 in /usr/local/lib/python3.9/dist-packages (from pyspark) (0.10.9.5)\n"
          ]
        }
      ]
    },
    {
      "cell_type": "code",
      "source": [
        "# Import SparkSession\n",
        "from pyspark.sql import SparkSession\n",
        "\n",
        "# Create a Spark Session\n",
        "spark = SparkSession.builder.master(\"local[*]\").getOrCreate()\n",
        "\n",
        "# Check Spark Session Information\n",
        "spark"
      ],
      "metadata": {
        "colab": {
          "base_uri": "https://localhost:8080/",
          "height": 221
        },
        "id": "Rbh-REUoVbco",
        "outputId": "b9a038f0-3733-420a-ecd1-25be274242ee"
      },
      "execution_count": 7,
      "outputs": [
        {
          "output_type": "execute_result",
          "data": {
            "text/plain": [
              "<pyspark.sql.session.SparkSession at 0x7f2ac8eabd30>"
            ],
            "text/html": [
              "\n",
              "            <div>\n",
              "                <p><b>SparkSession - in-memory</b></p>\n",
              "                \n",
              "        <div>\n",
              "            <p><b>SparkContext</b></p>\n",
              "\n",
              "            <p><a href=\"http://2d09797f581e:4040\">Spark UI</a></p>\n",
              "\n",
              "            <dl>\n",
              "              <dt>Version</dt>\n",
              "                <dd><code>v3.3.2</code></dd>\n",
              "              <dt>Master</dt>\n",
              "                <dd><code>local[*]</code></dd>\n",
              "              <dt>AppName</dt>\n",
              "                <dd><code>pyspark-shell</code></dd>\n",
              "            </dl>\n",
              "        </div>\n",
              "        \n",
              "            </div>\n",
              "        "
            ]
          },
          "metadata": {},
          "execution_count": 7
        }
      ]
    },
    {
      "cell_type": "code",
      "source": [
        "train = spark.read.format(\"csv\").option(\"header\", \"true\").option(\"mode\", \"FAILFAST\").option(\"inferSchema\", \"true\").load(\"train.csv\")\n",
        "test = spark.read.format(\"csv\").option(\"header\", \"true\").option(\"mode\", \"FAILFAST\").option(\"inferSchema\", \"true\").load(\"test.csv\")"
      ],
      "metadata": {
        "id": "yaDYx1cStVrE"
      },
      "execution_count": 8,
      "outputs": []
    },
    {
      "cell_type": "markdown",
      "source": [
        "# Show column details"
      ],
      "metadata": {
        "id": "RO1ibJPuybJ0"
      }
    },
    {
      "cell_type": "code",
      "source": [
        "train.printSchema()"
      ],
      "metadata": {
        "colab": {
          "base_uri": "https://localhost:8080/"
        },
        "id": "2O-gX9lGyD5m",
        "outputId": "a9d7a119-ed1b-4b46-b47e-e122e4c3d606"
      },
      "execution_count": 9,
      "outputs": [
        {
          "output_type": "stream",
          "name": "stdout",
          "text": [
            "root\n",
            " |-- User_ID: integer (nullable = true)\n",
            " |-- Product_ID: string (nullable = true)\n",
            " |-- Gender: string (nullable = true)\n",
            " |-- Age: string (nullable = true)\n",
            " |-- Occupation: integer (nullable = true)\n",
            " |-- City_Category: string (nullable = true)\n",
            " |-- Stay_In_Current_City_Years: string (nullable = true)\n",
            " |-- Marital_Status: integer (nullable = true)\n",
            " |-- Product_Category_1: integer (nullable = true)\n",
            " |-- Product_Category_2: integer (nullable = true)\n",
            " |-- Product_Category_3: integer (nullable = true)\n",
            " |-- Purchase: integer (nullable = true)\n",
            "\n"
          ]
        }
      ]
    },
    {
      "cell_type": "markdown",
      "source": [
        "# Display rows"
      ],
      "metadata": {
        "id": "iq1bqFcdykEE"
      }
    },
    {
      "cell_type": "code",
      "source": [
        "train.show(5)"
      ],
      "metadata": {
        "colab": {
          "base_uri": "https://localhost:8080/"
        },
        "id": "v9MXSn1kyVfz",
        "outputId": "2709f0f3-9174-47ff-c50e-985e96e1c1fe"
      },
      "execution_count": 10,
      "outputs": [
        {
          "output_type": "stream",
          "name": "stdout",
          "text": [
            "+-------+----------+------+----+----------+-------------+--------------------------+--------------+------------------+------------------+------------------+--------+\n",
            "|User_ID|Product_ID|Gender| Age|Occupation|City_Category|Stay_In_Current_City_Years|Marital_Status|Product_Category_1|Product_Category_2|Product_Category_3|Purchase|\n",
            "+-------+----------+------+----+----------+-------------+--------------------------+--------------+------------------+------------------+------------------+--------+\n",
            "|1000001| P00069042|     F|0-17|        10|            A|                         2|             0|                 3|              null|              null|    8370|\n",
            "|1000001| P00248942|     F|0-17|        10|            A|                         2|             0|                 1|                 6|                14|   15200|\n",
            "|1000001| P00087842|     F|0-17|        10|            A|                         2|             0|                12|              null|              null|    1422|\n",
            "|1000001| P00085442|     F|0-17|        10|            A|                         2|             0|                12|                14|              null|    1057|\n",
            "|1000002| P00285442|     M| 55+|        16|            C|                        4+|             0|                 8|              null|              null|    7969|\n",
            "+-------+----------+------+----+----------+-------------+--------------------------+--------------+------------------+------------------+------------------+--------+\n",
            "only showing top 5 rows\n",
            "\n"
          ]
        }
      ]
    },
    {
      "cell_type": "markdown",
      "source": [
        "# Number of rows in DF"
      ],
      "metadata": {
        "id": "u_ovn7dDysdH"
      }
    },
    {
      "cell_type": "code",
      "source": [
        "train.count()"
      ],
      "metadata": {
        "colab": {
          "base_uri": "https://localhost:8080/"
        },
        "id": "qdpIkcaKyjbb",
        "outputId": "ad7316bc-166d-4d13-b63d-bbc7c45558b3"
      },
      "execution_count": 11,
      "outputs": [
        {
          "output_type": "execute_result",
          "data": {
            "text/plain": [
              "550068"
            ]
          },
          "metadata": {},
          "execution_count": 11
        }
      ]
    },
    {
      "cell_type": "markdown",
      "source": [
        "# Display specific columns"
      ],
      "metadata": {
        "id": "ByDm14l5y73R"
      }
    },
    {
      "cell_type": "code",
      "source": [
        "train.select(\"User_ID\",\"Gender\",\"Age\",\"Occupation\").show()"
      ],
      "metadata": {
        "colab": {
          "base_uri": "https://localhost:8080/"
        },
        "id": "hPrCgMPRyxgS",
        "outputId": "0ecb81ed-369d-4223-ce8c-0483a57bcb10"
      },
      "execution_count": 12,
      "outputs": [
        {
          "output_type": "stream",
          "name": "stdout",
          "text": [
            "+-------+------+-----+----------+\n",
            "|User_ID|Gender|  Age|Occupation|\n",
            "+-------+------+-----+----------+\n",
            "|1000001|     F| 0-17|        10|\n",
            "|1000001|     F| 0-17|        10|\n",
            "|1000001|     F| 0-17|        10|\n",
            "|1000001|     F| 0-17|        10|\n",
            "|1000002|     M|  55+|        16|\n",
            "|1000003|     M|26-35|        15|\n",
            "|1000004|     M|46-50|         7|\n",
            "|1000004|     M|46-50|         7|\n",
            "|1000004|     M|46-50|         7|\n",
            "|1000005|     M|26-35|        20|\n",
            "|1000005|     M|26-35|        20|\n",
            "|1000005|     M|26-35|        20|\n",
            "|1000005|     M|26-35|        20|\n",
            "|1000005|     M|26-35|        20|\n",
            "|1000006|     F|51-55|         9|\n",
            "|1000006|     F|51-55|         9|\n",
            "|1000006|     F|51-55|         9|\n",
            "|1000006|     F|51-55|         9|\n",
            "|1000007|     M|36-45|         1|\n",
            "|1000008|     M|26-35|        12|\n",
            "+-------+------+-----+----------+\n",
            "only showing top 20 rows\n",
            "\n"
          ]
        }
      ]
    },
    {
      "cell_type": "markdown",
      "source": [
        "# Describing the columns"
      ],
      "metadata": {
        "id": "7NqXc335zBZt"
      }
    },
    {
      "cell_type": "code",
      "source": [
        "train.describe().show()"
      ],
      "metadata": {
        "colab": {
          "base_uri": "https://localhost:8080/"
        },
        "id": "ErDEajzyy5Dk",
        "outputId": "1c036bab-5c24-4a3e-ed3d-e237316020b2"
      },
      "execution_count": 13,
      "outputs": [
        {
          "output_type": "stream",
          "name": "stdout",
          "text": [
            "+-------+------------------+----------+------+------+-----------------+-------------+--------------------------+-------------------+------------------+------------------+------------------+-----------------+\n",
            "|summary|           User_ID|Product_ID|Gender|   Age|       Occupation|City_Category|Stay_In_Current_City_Years|     Marital_Status|Product_Category_1|Product_Category_2|Product_Category_3|         Purchase|\n",
            "+-------+------------------+----------+------+------+-----------------+-------------+--------------------------+-------------------+------------------+------------------+------------------+-----------------+\n",
            "|  count|            550068|    550068|550068|550068|           550068|       550068|                    550068|             550068|            550068|            376430|            166821|           550068|\n",
            "|   mean|1003028.8424013031|      null|  null|  null|8.076706879876669|         null|         1.468494139793958|0.40965298835780306| 5.404270017525106| 9.842329251122386|12.668243206790512|9263.968712959126|\n",
            "| stddev|1727.5915855313747|      null|  null|  null|6.522660487341741|         null|        0.9890866807573103| 0.4917701263173315| 3.936211369201365| 5.086589648693497| 4.125337631575274|5023.065393820575|\n",
            "|    min|           1000001| P00000142|     F|  0-17|                0|            A|                         0|                  0|                 1|                 2|                 3|               12|\n",
            "|    max|           1006040|  P0099942|     M|   55+|               20|            C|                        4+|                  1|                20|                18|                18|            23961|\n",
            "+-------+------------------+----------+------+------+-----------------+-------------+--------------------------+-------------------+------------------+------------------+------------------+-----------------+\n",
            "\n"
          ]
        }
      ]
    },
    {
      "cell_type": "markdown",
      "source": [
        "# Display distinct values"
      ],
      "metadata": {
        "id": "iA522U85zGiW"
      }
    },
    {
      "cell_type": "code",
      "source": [
        "train.select(\"City_Category\").distinct().show()"
      ],
      "metadata": {
        "colab": {
          "base_uri": "https://localhost:8080/"
        },
        "id": "xQ1vrtgTzFv7",
        "outputId": "794af7c2-1787-4580-96b8-75fe590bb386"
      },
      "execution_count": 14,
      "outputs": [
        {
          "output_type": "stream",
          "name": "stdout",
          "text": [
            "+-------------+\n",
            "|City_Category|\n",
            "+-------------+\n",
            "|            B|\n",
            "|            C|\n",
            "|            A|\n",
            "+-------------+\n",
            "\n"
          ]
        }
      ]
    },
    {
      "cell_type": "markdown",
      "source": [
        "# Aggregate with Groupby"
      ],
      "metadata": {
        "id": "ahCjkHBFzX8o"
      }
    },
    {
      "cell_type": "code",
      "source": [
        "from pyspark.sql import functions as F\n",
        "train.groupBy(\"City_Category\").agg(F.sum(\"Purchase\").alias('Purchase Sum')).show()"
      ],
      "metadata": {
        "colab": {
          "base_uri": "https://localhost:8080/"
        },
        "id": "7K69N_qIzSjL",
        "outputId": "fdfff2cb-b050-4960-a87f-978db9da3193"
      },
      "execution_count": 15,
      "outputs": [
        {
          "output_type": "stream",
          "name": "stdout",
          "text": [
            "+-------------+------------+\n",
            "|City_Category|Purchase Sum|\n",
            "+-------------+------------+\n",
            "|            B|  2115533605|\n",
            "|            C|  1663807476|\n",
            "|            A|  1316471661|\n",
            "+-------------+------------+\n",
            "\n"
          ]
        }
      ]
    },
    {
      "cell_type": "markdown",
      "source": [
        "# Counting and Removing Null values"
      ],
      "metadata": {
        "id": "8ebDuD9fz9XR"
      }
    },
    {
      "cell_type": "code",
      "source": [
        "train.select([F.count(F.when(F.isnull(c), c)).alias(c) for c in train.columns]).show()"
      ],
      "metadata": {
        "colab": {
          "base_uri": "https://localhost:8080/"
        },
        "id": "ryzG6RsLzXHg",
        "outputId": "cc2bd553-6748-41f2-c06a-510945df6864"
      },
      "execution_count": 17,
      "outputs": [
        {
          "output_type": "stream",
          "name": "stdout",
          "text": [
            "+-------+----------+------+---+----------+-------------+--------------------------+--------------+------------------+------------------+------------------+--------+\n",
            "|User_ID|Product_ID|Gender|Age|Occupation|City_Category|Stay_In_Current_City_Years|Marital_Status|Product_Category_1|Product_Category_2|Product_Category_3|Purchase|\n",
            "+-------+----------+------+---+----------+-------------+--------------------------+--------------+------------------+------------------+------------------+--------+\n",
            "|      0|         0|     0|  0|         0|            0|                         0|             0|                 0|            173638|            383247|       0|\n",
            "+-------+----------+------+---+----------+-------------+--------------------------+--------------+------------------+------------------+------------------+--------+\n",
            "\n"
          ]
        }
      ]
    },
    {
      "cell_type": "markdown",
      "source": [
        "# Fill na values"
      ],
      "metadata": {
        "id": "9hmSNB3zz-wQ"
      }
    },
    {
      "cell_type": "code",
      "source": [
        "train = train.fillna({'Product_Category_2':0, 'Product_Category_3':0})"
      ],
      "metadata": {
        "id": "G_w1Jc0oz2xm"
      },
      "execution_count": 18,
      "outputs": []
    },
    {
      "cell_type": "markdown",
      "source": [
        "### Recheck for the null values"
      ],
      "metadata": {
        "id": "QDOSi7Pu0YOt"
      }
    },
    {
      "cell_type": "code",
      "source": [
        "train.select([F.count(F.when(F.isnull(c), c)).alias(c) for c in train.columns]).show()"
      ],
      "metadata": {
        "colab": {
          "base_uri": "https://localhost:8080/"
        },
        "id": "T88u2JtQ0Fvl",
        "outputId": "f39e3041-9ad3-4bac-f5ef-c4cf95bd22d5"
      },
      "execution_count": 19,
      "outputs": [
        {
          "output_type": "stream",
          "name": "stdout",
          "text": [
            "+-------+----------+------+---+----------+-------------+--------------------------+--------------+------------------+------------------+------------------+--------+\n",
            "|User_ID|Product_ID|Gender|Age|Occupation|City_Category|Stay_In_Current_City_Years|Marital_Status|Product_Category_1|Product_Category_2|Product_Category_3|Purchase|\n",
            "+-------+----------+------+---+----------+-------------+--------------------------+--------------+------------------+------------------+------------------+--------+\n",
            "|      0|         0|     0|  0|         0|            0|                         0|             0|                 0|                 0|                 0|       0|\n",
            "+-------+----------+------+---+----------+-------------+--------------------------+--------------+------------------+------------------+------------------+--------+\n",
            "\n"
          ]
        }
      ]
    },
    {
      "cell_type": "code",
      "source": [
        "print('There are {} rows in the train dataset and {} rows in the test data frame', train.count(),test.count())"
      ],
      "metadata": {
        "colab": {
          "base_uri": "https://localhost:8080/"
        },
        "id": "rXavP19Dhqfa",
        "outputId": "0bfbcb9c-76de-4020-ac6d-801ba07f3bfd"
      },
      "execution_count": 20,
      "outputs": [
        {
          "output_type": "stream",
          "name": "stdout",
          "text": [
            "There are {} rows in the train dataset and {} rows in the test data frame 550068 233599\n"
          ]
        }
      ]
    },
    {
      "cell_type": "markdown",
      "source": [
        "# Visualization"
      ],
      "metadata": {
        "id": "VA01vl6ojn1Q"
      }
    },
    {
      "cell_type": "code",
      "source": [
        "import seaborn as sns\n",
        "import matplotlib.pyplot as plt\n",
        "\n",
        "%matplotlib inline"
      ],
      "metadata": {
        "id": "kjFSz31Gj05d"
      },
      "execution_count": 21,
      "outputs": []
    },
    {
      "cell_type": "code",
      "source": [
        "to_plot = ['Gender', 'Age', 'City_Category', 'Marital_Status', \n",
        "           'Product_Category_1','Product_Category_2', 'Stay_In_Current_City_Years']\n",
        "for category in to_plot:\n",
        "    temp_df = train.groupby(category).count().sort(category).toPandas()\n",
        "    _ = sns.barplot(x = category, y = 'count', data = temp_df)\n",
        "    plt.show()"
      ],
      "metadata": {
        "colab": {
          "base_uri": "https://localhost:8080/",
          "height": 1000
        },
        "id": "Ky2licFujt_N",
        "outputId": "c1006440-5d0d-42f1-a474-cf9f9dc3889f"
      },
      "execution_count": 22,
      "outputs": [
        {
          "output_type": "display_data",
          "data": {
            "text/plain": [
              "<Figure size 432x288 with 1 Axes>"
            ],
            "image/png": "[encoded data removed]"
          },
          "metadata": {
            "needs_background": "light"
          }
        },
        {
          "output_type": "display_data",
          "data": {
            "text/plain": [
              "<Figure size 432x288 with 1 Axes>"
            ],
            "image/png": "[encoded data removed]"
          },
          "metadata": {
            "needs_background": "light"
          }
        },
        {
          "output_type": "display_data",
          "data": {
            "text/plain": [
              "<Figure size 432x288 with 1 Axes>"
            ],
            "image/png": "[encoded data removed]"
          },
          "metadata": {
            "needs_background": "light"
          }
        },
        {
          "output_type": "display_data",
          "data": {
            "text/plain": [
              "<Figure size 432x288 with 1 Axes>"
            ],
            "image/png": "[encoded data removed]"
          },
          "metadata": {
            "needs_background": "light"
          }
        },
        {
          "output_type": "display_data",
          "data": {
            "text/plain": [
              "<Figure size 432x288 with 1 Axes>"
            ],
            "image/png": "[encoded data removed]"
          },
          "metadata": {
            "needs_background": "light"
          }
        },
        {
          "output_type": "display_data",
          "data": {
            "text/plain": [
              "<Figure size 432x288 with 1 Axes>"
            ],
            "image/png": "[encoded data removed]"
          },
          "metadata": {
            "needs_background": "light"
          }
        },
        {
          "output_type": "display_data",
          "data": {
            "text/plain": [
              "<Figure size 432x288 with 1 Axes>"
            ],
            "image/png": "[encoded data removed]"
          },
          "metadata": {
            "needs_background": "light"
          }
        }
      ]
    },
    {
      "cell_type": "markdown",
      "source": [
        "#Save to file"
      ],
      "metadata": {
        "id": "4PBoVqrb0t45"
      }
    },
    {
      "cell_type": "code",
      "source": [
        "# Spark df to Pandas df\n",
        "train_df = train.toPandas()\n",
        "\n",
        "# Store result\n",
        "train_df.to_csv(\"/content/drive/MyDrive/pandas_preprocessed_data.csv\")"
      ],
      "metadata": {
        "id": "DPBFyov_1Qnm"
      },
      "execution_count": 27,
      "outputs": []
    },
    {
      "cell_type": "code",
      "source": [
        "# df.write.csv(\"/content/drive/MyDrive/preprocessed_BlackFridaySale_data\") #Stored as two partitions"
      ],
      "metadata": {
        "id": "dOBrJ-820Xsq"
      },
      "execution_count": 28,
      "outputs": []
    },
    {
      "cell_type": "code",
      "source": [
        "# df.rdd.getNumPartitions()"
      ],
      "metadata": {
        "id": "n3vavdbh07ho"
      },
      "execution_count": 29,
      "outputs": []
    }
  ]
}